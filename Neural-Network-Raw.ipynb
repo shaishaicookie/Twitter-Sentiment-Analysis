{
 "cells": [
  {
   "cell_type": "markdown",
   "id": "614fab5e",
   "metadata": {},
   "source": [
    "# **Data preprocessing**"
   ]
  },
  {
   "cell_type": "code",
   "execution_count": 32,
   "id": "5fcad624",
   "metadata": {},
   "outputs": [],
   "source": [
    "import pandas as pd\n",
    "import numpy as np\n",
    "import matplotlib\n",
    "import matplotlib.pyplot as plt\n",
    "from collections import Counter"
   ]
  },
  {
   "cell_type": "code",
   "execution_count": 2,
   "id": "4461b018",
   "metadata": {},
   "outputs": [],
   "source": [
    "# load data\n",
    "trained = pd.read_csv('data/train_full.csv', encoding = \"ISO-8859-1\", engine=\"python\")\n",
    "test = pd.read_csv('data/dev_full.csv',  encoding = \"ISO-8859-1\", engine=\"python\")"
   ]
  },
  {
   "cell_type": "code",
   "execution_count": 3,
   "id": "98f571a2",
   "metadata": {},
   "outputs": [
    {
     "data": {
      "text/html": [
       "<div>\n",
       "<style scoped>\n",
       "    .dataframe tbody tr th:only-of-type {\n",
       "        vertical-align: middle;\n",
       "    }\n",
       "\n",
       "    .dataframe tbody tr th {\n",
       "        vertical-align: top;\n",
       "    }\n",
       "\n",
       "    .dataframe thead th {\n",
       "        text-align: right;\n",
       "    }\n",
       "</style>\n",
       "<table border=\"1\" class=\"dataframe\">\n",
       "  <thead>\n",
       "    <tr style=\"text-align: right;\">\n",
       "      <th></th>\n",
       "      <th>sentiment</th>\n",
       "      <th>tweet_id</th>\n",
       "      <th>tweet</th>\n",
       "    </tr>\n",
       "  </thead>\n",
       "  <tbody>\n",
       "    <tr>\n",
       "      <th>0</th>\n",
       "      <td>neg</td>\n",
       "      <td>1</td>\n",
       "      <td>@bullyosullivan oh no! so sorry about your pet...</td>\n",
       "    </tr>\n",
       "    <tr>\n",
       "      <th>1</th>\n",
       "      <td>neg</td>\n",
       "      <td>2</td>\n",
       "      <td>@anneaam you should! i love prison break.i onl...</td>\n",
       "    </tr>\n",
       "    <tr>\n",
       "      <th>2</th>\n",
       "      <td>neg</td>\n",
       "      <td>3</td>\n",
       "      <td>i saw some really nice pair of shoess.. couldn...</td>\n",
       "    </tr>\n",
       "    <tr>\n",
       "      <th>3</th>\n",
       "      <td>neg</td>\n",
       "      <td>4</td>\n",
       "      <td>hihihi i had fun but my foot is still hurting!...</td>\n",
       "    </tr>\n",
       "    <tr>\n",
       "      <th>4</th>\n",
       "      <td>neg</td>\n",
       "      <td>5</td>\n",
       "      <td>sourish limbs is preventing me from gg out on ...</td>\n",
       "    </tr>\n",
       "  </tbody>\n",
       "</table>\n",
       "</div>"
      ],
      "text/plain": [
       "  sentiment  tweet_id                                              tweet\n",
       "0       neg         1  @bullyosullivan oh no! so sorry about your pet...\n",
       "1       neg         2  @anneaam you should! i love prison break.i onl...\n",
       "2       neg         3  i saw some really nice pair of shoess.. couldn...\n",
       "3       neg         4  hihihi i had fun but my foot is still hurting!...\n",
       "4       neg         5  sourish limbs is preventing me from gg out on ..."
      ]
     },
     "execution_count": 3,
     "metadata": {},
     "output_type": "execute_result"
    }
   ],
   "source": [
    "trained.head()"
   ]
  },
  {
   "cell_type": "markdown",
   "id": "b7b4d43a",
   "metadata": {},
   "source": [
    "## **Check Null Values**"
   ]
  },
  {
   "cell_type": "code",
   "execution_count": 4,
   "id": "32d7d588",
   "metadata": {},
   "outputs": [
    {
     "name": "stdout",
     "output_type": "stream",
     "text": [
      "0\n",
      "0\n"
     ]
    }
   ],
   "source": [
    "# check null values\n",
    "print(np.sum(trained.isnull().any(axis=1)))\n",
    "print(np.sum(test.isnull().any(axis=1)))"
   ]
  },
  {
   "cell_type": "markdown",
   "id": "a7975d09",
   "metadata": {},
   "source": [
    "## **Tweets Cleaning**"
   ]
  },
  {
   "cell_type": "code",
   "execution_count": 5,
   "id": "f73bf537",
   "metadata": {},
   "outputs": [],
   "source": [
    "trained = trained[['tweet', 'sentiment']]\n",
    "test = test[['tweet', 'sentiment']]"
   ]
  },
  {
   "cell_type": "markdown",
   "id": "4c3afe79",
   "metadata": {},
   "source": [
    "### **Convert to Lower Case**"
   ]
  },
  {
   "cell_type": "code",
   "execution_count": 6,
   "id": "a858b51e",
   "metadata": {},
   "outputs": [],
   "source": [
    "trained['tweet'] = trained['tweet'].str.lower()\n",
    "test['tweet'] = test['tweet'].str.lower()"
   ]
  },
  {
   "cell_type": "code",
   "execution_count": 7,
   "id": "cfd56c50",
   "metadata": {},
   "outputs": [
    {
     "data": {
      "text/html": [
       "<div>\n",
       "<style scoped>\n",
       "    .dataframe tbody tr th:only-of-type {\n",
       "        vertical-align: middle;\n",
       "    }\n",
       "\n",
       "    .dataframe tbody tr th {\n",
       "        vertical-align: top;\n",
       "    }\n",
       "\n",
       "    .dataframe thead th {\n",
       "        text-align: right;\n",
       "    }\n",
       "</style>\n",
       "<table border=\"1\" class=\"dataframe\">\n",
       "  <thead>\n",
       "    <tr style=\"text-align: right;\">\n",
       "      <th></th>\n",
       "      <th>tweet</th>\n",
       "      <th>sentiment</th>\n",
       "    </tr>\n",
       "  </thead>\n",
       "  <tbody>\n",
       "    <tr>\n",
       "      <th>0</th>\n",
       "      <td>@bullyosullivan oh no! so sorry about your pet...</td>\n",
       "      <td>neg</td>\n",
       "    </tr>\n",
       "    <tr>\n",
       "      <th>1</th>\n",
       "      <td>@anneaam you should! i love prison break.i onl...</td>\n",
       "      <td>neg</td>\n",
       "    </tr>\n",
       "    <tr>\n",
       "      <th>2</th>\n",
       "      <td>i saw some really nice pair of shoess.. couldn...</td>\n",
       "      <td>neg</td>\n",
       "    </tr>\n",
       "    <tr>\n",
       "      <th>3</th>\n",
       "      <td>hihihi i had fun but my foot is still hurting!...</td>\n",
       "      <td>neg</td>\n",
       "    </tr>\n",
       "    <tr>\n",
       "      <th>4</th>\n",
       "      <td>sourish limbs is preventing me from gg out on ...</td>\n",
       "      <td>neg</td>\n",
       "    </tr>\n",
       "  </tbody>\n",
       "</table>\n",
       "</div>"
      ],
      "text/plain": [
       "                                               tweet sentiment\n",
       "0  @bullyosullivan oh no! so sorry about your pet...       neg\n",
       "1  @anneaam you should! i love prison break.i onl...       neg\n",
       "2  i saw some really nice pair of shoess.. couldn...       neg\n",
       "3  hihihi i had fun but my foot is still hurting!...       neg\n",
       "4  sourish limbs is preventing me from gg out on ...       neg"
      ]
     },
     "execution_count": 7,
     "metadata": {},
     "output_type": "execute_result"
    }
   ],
   "source": [
    "trained.head()"
   ]
  },
  {
   "cell_type": "markdown",
   "id": "45b529f5",
   "metadata": {},
   "source": [
    "### **Remove Tweet UserName @username**"
   ]
  },
  {
   "cell_type": "code",
   "execution_count": 8,
   "id": "47ddac88",
   "metadata": {},
   "outputs": [],
   "source": [
    "import re\n",
    "def clean_email(data):\n",
    "    return re.sub('@[^\\s]+', ' ', data)\n",
    "\n",
    "trained['tweet']= trained['tweet'].apply(lambda x: clean_email(x))\n",
    "test['tweet']= test['tweet'].apply(lambda x: clean_email(x))"
   ]
  },
  {
   "cell_type": "code",
   "execution_count": 9,
   "id": "a3cb1b95",
   "metadata": {},
   "outputs": [
    {
     "name": "stderr",
     "output_type": "stream",
     "text": [
      "/var/folders/xl/l07cxwy94pgcqqp6n3npqbt80000gn/T/ipykernel_9731/3842350361.py:2: FutureWarning: The default value of regex will change from True to False in a future version.\n",
      "  trained['tweet'] = trained['tweet'].str.replace(\"[^a-zA-Z#]\", \" \")\n",
      "/var/folders/xl/l07cxwy94pgcqqp6n3npqbt80000gn/T/ipykernel_9731/3842350361.py:3: FutureWarning: The default value of regex will change from True to False in a future version.\n",
      "  trained['tweet'] = trained['tweet'].str.replace(r'http?://[^\\s<>\"]+|www\\.[^\\s<>\"]+', '')\n",
      "/var/folders/xl/l07cxwy94pgcqqp6n3npqbt80000gn/T/ipykernel_9731/3842350361.py:4: FutureWarning: The default value of regex will change from True to False in a future version.\n",
      "  trained['tweet'] = trained['tweet'].str.replace('@[A-Za-z0-9]+', '')\n",
      "/var/folders/xl/l07cxwy94pgcqqp6n3npqbt80000gn/T/ipykernel_9731/3842350361.py:5: FutureWarning: The default value of regex will change from True to False in a future version.\n",
      "  trained['tweet'] = trained['tweet'].str.replace(r'\\B#\\w*[a-zA-Z]+\\w*', '')\n",
      "/var/folders/xl/l07cxwy94pgcqqp6n3npqbt80000gn/T/ipykernel_9731/3842350361.py:9: FutureWarning: The default value of regex will change from True to False in a future version.\n",
      "  test['tweet'] = test['tweet'].str.replace(\"[^a-zA-Z#]\", \" \")\n",
      "/var/folders/xl/l07cxwy94pgcqqp6n3npqbt80000gn/T/ipykernel_9731/3842350361.py:10: FutureWarning: The default value of regex will change from True to False in a future version.\n",
      "  test['tweet'] = test['tweet'].str.replace(r'http?://[^\\s<>\"]+|www\\.[^\\s<>\"]+', '')\n",
      "/var/folders/xl/l07cxwy94pgcqqp6n3npqbt80000gn/T/ipykernel_9731/3842350361.py:11: FutureWarning: The default value of regex will change from True to False in a future version.\n",
      "  test['tweet'] = test['tweet'].str.replace('@[A-Za-z0-9]+', '')\n",
      "/var/folders/xl/l07cxwy94pgcqqp6n3npqbt80000gn/T/ipykernel_9731/3842350361.py:12: FutureWarning: The default value of regex will change from True to False in a future version.\n",
      "  test['tweet'] = test['tweet'].str.replace(r'\\B#\\w*[a-zA-Z]+\\w*', '')\n",
      "/var/folders/xl/l07cxwy94pgcqqp6n3npqbt80000gn/T/ipykernel_9731/3842350361.py:13: FutureWarning: The default value of regex will change from True to False in a future version.\n",
      "  test['tweet'] = test['tweet'].str.replace('\\d+', '')\n"
     ]
    }
   ],
   "source": [
    "#Training Data\n",
    "trained['tweet'] = trained['tweet'].str.replace(\"[^a-zA-Z#]\", \" \")\n",
    "trained['tweet'] = trained['tweet'].str.replace(r'http?://[^\\s<>\"]+|www\\.[^\\s<>\"]+', '')\n",
    "trained['tweet'] = trained['tweet'].str.replace('@[A-Za-z0-9]+', '') \n",
    "trained['tweet'] = trained['tweet'].str.replace(r'\\B#\\w*[a-zA-Z]+\\w*', '')\n",
    "\n",
    "\n",
    "#Test Data\n",
    "test['tweet'] = test['tweet'].str.replace(\"[^a-zA-Z#]\", \" \")\n",
    "test['tweet'] = test['tweet'].str.replace(r'http?://[^\\s<>\"]+|www\\.[^\\s<>\"]+', '') \n",
    "test['tweet'] = test['tweet'].str.replace('@[A-Za-z0-9]+', '') \n",
    "test['tweet'] = test['tweet'].str.replace(r'\\B#\\w*[a-zA-Z]+\\w*', '') \n",
    "test['tweet'] = test['tweet'].str.replace('\\d+', '')"
   ]
  },
  {
   "cell_type": "markdown",
   "id": "db4b365e",
   "metadata": {},
   "source": [
    "### **Remove Special Characters**"
   ]
  },
  {
   "cell_type": "code",
   "execution_count": 10,
   "id": "645f0ed6",
   "metadata": {},
   "outputs": [
    {
     "name": "stderr",
     "output_type": "stream",
     "text": [
      "/var/folders/xl/l07cxwy94pgcqqp6n3npqbt80000gn/T/ipykernel_9731/3268297942.py:6: FutureWarning: The default value of regex will change from True to False in a future version. In addition, single character regular expressions will *not* be treated as literal strings when regex=True.\n",
      "  trained['tweet'] = trained['tweet'].str.replace(c,'')\n",
      "/var/folders/xl/l07cxwy94pgcqqp6n3npqbt80000gn/T/ipykernel_9731/3268297942.py:9: FutureWarning: The default value of regex will change from True to False in a future version. In addition, single character regular expressions will *not* be treated as literal strings when regex=True.\n",
      "  test['tweet'] = test['tweet'].str.replace(c,'')\n"
     ]
    }
   ],
   "source": [
    "special_chars = [\"!\",'\"',\"%\",\"&\",\"amp\",\"'\",\"(\",\")\", \"*\",\"+\",\",\",\"-\",\".\",\n",
    "                 \"/\",\":\",\";\",\"<\",\"=\",\">\",\"?\",\"[\",\"\\\\\",\"]\",\"^\",\"_\",\n",
    "                 \"`\",\"{\",\"|\",\"}\",\"~\",\"–\",\"@\",\"#\",\"$\"]\n",
    "\n",
    "for c in special_chars:\n",
    "    trained['tweet'] = trained['tweet'].str.replace(c,'') \n",
    "\n",
    "for c in special_chars:\n",
    "    test['tweet'] = test['tweet'].str.replace(c,'') "
   ]
  },
  {
   "cell_type": "markdown",
   "id": "77111905",
   "metadata": {},
   "source": [
    "### **Remove Stopwords**"
   ]
  },
  {
   "cell_type": "code",
   "execution_count": 11,
   "id": "cde28edb",
   "metadata": {},
   "outputs": [
    {
     "name": "stderr",
     "output_type": "stream",
     "text": [
      "[nltk_data] Downloading package stopwords to /Users/sw/nltk_data...\n",
      "[nltk_data]   Package stopwords is already up-to-date!\n"
     ]
    }
   ],
   "source": [
    "# Remove Stopwords\n",
    "import nltk\n",
    "nltk.download('stopwords')\n",
    "from nltk.corpus import stopwords\n",
    "STOPWORDS = set(stopwords.words('english'))\n",
    "\n",
    "def clean_stopwords(tweet):\n",
    "    return \" \".join([word for word in str(tweet).split() if word not in STOPWORDS])\n",
    "\n",
    "trained['tweet'] = trained['tweet'].apply(lambda tweet: clean_stopwords(tweet))\n",
    "test['tweet'] = test['tweet'].apply(lambda tweet: clean_stopwords(tweet))\n"
   ]
  },
  {
   "cell_type": "code",
   "execution_count": 12,
   "id": "12e6798d",
   "metadata": {},
   "outputs": [
    {
     "data": {
      "text/html": [
       "<div>\n",
       "<style scoped>\n",
       "    .dataframe tbody tr th:only-of-type {\n",
       "        vertical-align: middle;\n",
       "    }\n",
       "\n",
       "    .dataframe tbody tr th {\n",
       "        vertical-align: top;\n",
       "    }\n",
       "\n",
       "    .dataframe thead th {\n",
       "        text-align: right;\n",
       "    }\n",
       "</style>\n",
       "<table border=\"1\" class=\"dataframe\">\n",
       "  <thead>\n",
       "    <tr style=\"text-align: right;\">\n",
       "      <th></th>\n",
       "      <th>tweet</th>\n",
       "      <th>sentiment</th>\n",
       "    </tr>\n",
       "  </thead>\n",
       "  <tbody>\n",
       "    <tr>\n",
       "      <th>0</th>\n",
       "      <td>oh sorry pets</td>\n",
       "      <td>neg</td>\n",
       "    </tr>\n",
       "    <tr>\n",
       "      <th>1</th>\n",
       "      <td>love prison break till ep</td>\n",
       "      <td>neg</td>\n",
       "    </tr>\n",
       "    <tr>\n",
       "      <th>2</th>\n",
       "      <td>saw really nice pair shoess couldnt afford em</td>\n",
       "      <td>neg</td>\n",
       "    </tr>\n",
       "    <tr>\n",
       "      <th>3</th>\n",
       "      <td>hihihi fun foot still hurting killing</td>\n",
       "      <td>neg</td>\n",
       "    </tr>\n",
       "    <tr>\n",
       "      <th>4</th>\n",
       "      <td>sourish limbs preventing gg friday happy v lon...</td>\n",
       "      <td>neg</td>\n",
       "    </tr>\n",
       "  </tbody>\n",
       "</table>\n",
       "</div>"
      ],
      "text/plain": [
       "                                               tweet sentiment\n",
       "0                                      oh sorry pets       neg\n",
       "1                          love prison break till ep       neg\n",
       "2      saw really nice pair shoess couldnt afford em       neg\n",
       "3              hihihi fun foot still hurting killing       neg\n",
       "4  sourish limbs preventing gg friday happy v lon...       neg"
      ]
     },
     "execution_count": 12,
     "metadata": {},
     "output_type": "execute_result"
    }
   ],
   "source": [
    "trained.head()"
   ]
  },
  {
   "cell_type": "markdown",
   "id": "d4c82357",
   "metadata": {},
   "source": [
    "### **Remove Punctuations**"
   ]
  },
  {
   "cell_type": "code",
   "execution_count": 13,
   "id": "a6e7229e",
   "metadata": {},
   "outputs": [],
   "source": [
    "import string \n",
    "punctuations_list = string.punctuation\n",
    "\n",
    "def clean_punctuations(tweet):\n",
    "    translator = str.maketrans('', '', punctuations_list)\n",
    "    return tweet.translate(translator)\n",
    "\n",
    "trained['tweet']= trained['tweet'].apply(lambda x: clean_punctuations(x))\n",
    "test['tweet']= test['tweet'].apply(lambda x: clean_punctuations(x))"
   ]
  },
  {
   "cell_type": "code",
   "execution_count": 14,
   "id": "45a4c73f",
   "metadata": {},
   "outputs": [
    {
     "data": {
      "text/html": [
       "<div>\n",
       "<style scoped>\n",
       "    .dataframe tbody tr th:only-of-type {\n",
       "        vertical-align: middle;\n",
       "    }\n",
       "\n",
       "    .dataframe tbody tr th {\n",
       "        vertical-align: top;\n",
       "    }\n",
       "\n",
       "    .dataframe thead th {\n",
       "        text-align: right;\n",
       "    }\n",
       "</style>\n",
       "<table border=\"1\" class=\"dataframe\">\n",
       "  <thead>\n",
       "    <tr style=\"text-align: right;\">\n",
       "      <th></th>\n",
       "      <th>tweet</th>\n",
       "      <th>sentiment</th>\n",
       "    </tr>\n",
       "  </thead>\n",
       "  <tbody>\n",
       "    <tr>\n",
       "      <th>0</th>\n",
       "      <td>oh sorry pets</td>\n",
       "      <td>neg</td>\n",
       "    </tr>\n",
       "    <tr>\n",
       "      <th>1</th>\n",
       "      <td>love prison break till ep</td>\n",
       "      <td>neg</td>\n",
       "    </tr>\n",
       "    <tr>\n",
       "      <th>2</th>\n",
       "      <td>saw really nice pair shoess couldnt afford em</td>\n",
       "      <td>neg</td>\n",
       "    </tr>\n",
       "    <tr>\n",
       "      <th>3</th>\n",
       "      <td>hihihi fun foot still hurting killing</td>\n",
       "      <td>neg</td>\n",
       "    </tr>\n",
       "    <tr>\n",
       "      <th>4</th>\n",
       "      <td>sourish limbs preventing gg friday happy v lon...</td>\n",
       "      <td>neg</td>\n",
       "    </tr>\n",
       "  </tbody>\n",
       "</table>\n",
       "</div>"
      ],
      "text/plain": [
       "                                               tweet sentiment\n",
       "0                                      oh sorry pets       neg\n",
       "1                          love prison break till ep       neg\n",
       "2      saw really nice pair shoess couldnt afford em       neg\n",
       "3              hihihi fun foot still hurting killing       neg\n",
       "4  sourish limbs preventing gg friday happy v lon...       neg"
      ]
     },
     "execution_count": 14,
     "metadata": {},
     "output_type": "execute_result"
    }
   ],
   "source": [
    "trained.head()"
   ]
  },
  {
   "cell_type": "markdown",
   "id": "ee58d91e",
   "metadata": {},
   "source": [
    "### **Remove URL**"
   ]
  },
  {
   "cell_type": "code",
   "execution_count": 15,
   "id": "fc1a9994",
   "metadata": {},
   "outputs": [],
   "source": [
    "def clean_URLs(data):\n",
    "    return re.sub('((www\\.[^\\s]+)|(https?://[^\\s]+))',' ',data)\n",
    "\n",
    "trained['tweet']= trained['tweet'].apply(lambda x: clean_URLs(x))\n",
    "test['tweet']= test['tweet'].apply(lambda x: clean_URLs(x))"
   ]
  },
  {
   "cell_type": "code",
   "execution_count": 16,
   "id": "fb477dd1",
   "metadata": {},
   "outputs": [
    {
     "data": {
      "text/html": [
       "<div>\n",
       "<style scoped>\n",
       "    .dataframe tbody tr th:only-of-type {\n",
       "        vertical-align: middle;\n",
       "    }\n",
       "\n",
       "    .dataframe tbody tr th {\n",
       "        vertical-align: top;\n",
       "    }\n",
       "\n",
       "    .dataframe thead th {\n",
       "        text-align: right;\n",
       "    }\n",
       "</style>\n",
       "<table border=\"1\" class=\"dataframe\">\n",
       "  <thead>\n",
       "    <tr style=\"text-align: right;\">\n",
       "      <th></th>\n",
       "      <th>tweet</th>\n",
       "      <th>sentiment</th>\n",
       "    </tr>\n",
       "  </thead>\n",
       "  <tbody>\n",
       "    <tr>\n",
       "      <th>0</th>\n",
       "      <td>oh sorry pets</td>\n",
       "      <td>neg</td>\n",
       "    </tr>\n",
       "    <tr>\n",
       "      <th>1</th>\n",
       "      <td>love prison break till ep</td>\n",
       "      <td>neg</td>\n",
       "    </tr>\n",
       "    <tr>\n",
       "      <th>2</th>\n",
       "      <td>saw really nice pair shoess couldnt afford em</td>\n",
       "      <td>neg</td>\n",
       "    </tr>\n",
       "    <tr>\n",
       "      <th>3</th>\n",
       "      <td>hihihi fun foot still hurting killing</td>\n",
       "      <td>neg</td>\n",
       "    </tr>\n",
       "    <tr>\n",
       "      <th>4</th>\n",
       "      <td>sourish limbs preventing gg friday happy v lon...</td>\n",
       "      <td>neg</td>\n",
       "    </tr>\n",
       "  </tbody>\n",
       "</table>\n",
       "</div>"
      ],
      "text/plain": [
       "                                               tweet sentiment\n",
       "0                                      oh sorry pets       neg\n",
       "1                          love prison break till ep       neg\n",
       "2      saw really nice pair shoess couldnt afford em       neg\n",
       "3              hihihi fun foot still hurting killing       neg\n",
       "4  sourish limbs preventing gg friday happy v lon...       neg"
      ]
     },
     "execution_count": 16,
     "metadata": {},
     "output_type": "execute_result"
    }
   ],
   "source": [
    "trained.head()"
   ]
  },
  {
   "cell_type": "markdown",
   "id": "c13aba06",
   "metadata": {},
   "source": [
    "### **Remove Numbers**"
   ]
  },
  {
   "cell_type": "code",
   "execution_count": 17,
   "id": "ef284915",
   "metadata": {},
   "outputs": [],
   "source": [
    "def clean_numbers(data):\n",
    "    return re.sub('[0-9]+', '', data)\n",
    "\n",
    "trained['tweet']= trained['tweet'].apply(lambda x: clean_numbers(x))\n",
    "test['tweet']= test['tweet'].apply(lambda x: clean_numbers(x))"
   ]
  },
  {
   "cell_type": "markdown",
   "id": "345a2c4c",
   "metadata": {},
   "source": [
    "### **Tokenizer**"
   ]
  },
  {
   "cell_type": "code",
   "execution_count": 18,
   "id": "5fd014c7",
   "metadata": {},
   "outputs": [],
   "source": [
    "from nltk.tokenize import RegexpTokenizer\n",
    "\n",
    "tokenizer1 = RegexpTokenizer(r'\\w+')\n",
    "tokenizer2 = RegexpTokenizer(r'\\w+')\n",
    "\n",
    "trained['tweet'] = trained['tweet'].apply(tokenizer1.tokenize)\n",
    "test['tweet'] = test['tweet'].apply(tokenizer2.tokenize)"
   ]
  },
  {
   "cell_type": "markdown",
   "id": "968cd257",
   "metadata": {},
   "source": [
    "### **Remove Non-Enligsh Word**"
   ]
  },
  {
   "cell_type": "code",
   "execution_count": 19,
   "id": "e3eb339e",
   "metadata": {},
   "outputs": [],
   "source": [
    "import enchant\n",
    "def clean_non_english_word(tweet):\n",
    "    d = enchant.Dict(\"en_US\")\n",
    "    new_tweet = []\n",
    "    for i in tweet:\n",
    "        if d.check(i):\n",
    "            new_tweet.append(i)\n",
    "    return new_tweet\n",
    "\n",
    "trained['tweet'] = trained['tweet'].apply(lambda x: clean_non_english_word(x))\n",
    "test['tweet'] = test['tweet'].apply(lambda x: clean_non_english_word(x))"
   ]
  },
  {
   "cell_type": "code",
   "execution_count": 20,
   "id": "e199b0a3",
   "metadata": {},
   "outputs": [
    {
     "data": {
      "text/html": [
       "<div>\n",
       "<style scoped>\n",
       "    .dataframe tbody tr th:only-of-type {\n",
       "        vertical-align: middle;\n",
       "    }\n",
       "\n",
       "    .dataframe tbody tr th {\n",
       "        vertical-align: top;\n",
       "    }\n",
       "\n",
       "    .dataframe thead th {\n",
       "        text-align: right;\n",
       "    }\n",
       "</style>\n",
       "<table border=\"1\" class=\"dataframe\">\n",
       "  <thead>\n",
       "    <tr style=\"text-align: right;\">\n",
       "      <th></th>\n",
       "      <th>tweet</th>\n",
       "      <th>sentiment</th>\n",
       "    </tr>\n",
       "  </thead>\n",
       "  <tbody>\n",
       "    <tr>\n",
       "      <th>0</th>\n",
       "      <td>[oh, sorry, pets]</td>\n",
       "      <td>neg</td>\n",
       "    </tr>\n",
       "    <tr>\n",
       "      <th>1</th>\n",
       "      <td>[love, prison, break, till]</td>\n",
       "      <td>neg</td>\n",
       "    </tr>\n",
       "    <tr>\n",
       "      <th>2</th>\n",
       "      <td>[saw, really, nice, pair, afford, em]</td>\n",
       "      <td>neg</td>\n",
       "    </tr>\n",
       "    <tr>\n",
       "      <th>3</th>\n",
       "      <td>[fun, foot, still, hurting, killing]</td>\n",
       "      <td>neg</td>\n",
       "    </tr>\n",
       "    <tr>\n",
       "      <th>4</th>\n",
       "      <td>[sourish, limbs, preventing, happy, v, long, t...</td>\n",
       "      <td>neg</td>\n",
       "    </tr>\n",
       "  </tbody>\n",
       "</table>\n",
       "</div>"
      ],
      "text/plain": [
       "                                               tweet sentiment\n",
       "0                                  [oh, sorry, pets]       neg\n",
       "1                        [love, prison, break, till]       neg\n",
       "2              [saw, really, nice, pair, afford, em]       neg\n",
       "3               [fun, foot, still, hurting, killing]       neg\n",
       "4  [sourish, limbs, preventing, happy, v, long, t...       neg"
      ]
     },
     "execution_count": 20,
     "metadata": {},
     "output_type": "execute_result"
    }
   ],
   "source": [
    "trained.head()"
   ]
  },
  {
   "cell_type": "markdown",
   "id": "5a33082c",
   "metadata": {},
   "source": [
    "### **Apply Stemming**"
   ]
  },
  {
   "cell_type": "code",
   "execution_count": 21,
   "id": "6b56da3b",
   "metadata": {},
   "outputs": [],
   "source": [
    "from nltk.stem import PorterStemmer\n",
    "st = PorterStemmer()\n",
    "def stemming(tweet):\n",
    "    tweet = [st.stem(word) for word in tweet]\n",
    "    return tweet\n",
    "\n",
    "trained['tweet'] = trained['tweet'].apply(lambda x: stemming(x))\n",
    "test['tweet'] = test['tweet'].apply(lambda x: stemming(x))"
   ]
  },
  {
   "cell_type": "code",
   "execution_count": 22,
   "id": "2ff7cd97",
   "metadata": {},
   "outputs": [
    {
     "data": {
      "text/html": [
       "<div>\n",
       "<style scoped>\n",
       "    .dataframe tbody tr th:only-of-type {\n",
       "        vertical-align: middle;\n",
       "    }\n",
       "\n",
       "    .dataframe tbody tr th {\n",
       "        vertical-align: top;\n",
       "    }\n",
       "\n",
       "    .dataframe thead th {\n",
       "        text-align: right;\n",
       "    }\n",
       "</style>\n",
       "<table border=\"1\" class=\"dataframe\">\n",
       "  <thead>\n",
       "    <tr style=\"text-align: right;\">\n",
       "      <th></th>\n",
       "      <th>tweet</th>\n",
       "      <th>sentiment</th>\n",
       "    </tr>\n",
       "  </thead>\n",
       "  <tbody>\n",
       "    <tr>\n",
       "      <th>0</th>\n",
       "      <td>[oh, sorri, pet]</td>\n",
       "      <td>neg</td>\n",
       "    </tr>\n",
       "    <tr>\n",
       "      <th>1</th>\n",
       "      <td>[love, prison, break, till]</td>\n",
       "      <td>neg</td>\n",
       "    </tr>\n",
       "    <tr>\n",
       "      <th>2</th>\n",
       "      <td>[saw, realli, nice, pair, afford, em]</td>\n",
       "      <td>neg</td>\n",
       "    </tr>\n",
       "    <tr>\n",
       "      <th>3</th>\n",
       "      <td>[fun, foot, still, hurt, kill]</td>\n",
       "      <td>neg</td>\n",
       "    </tr>\n",
       "    <tr>\n",
       "      <th>4</th>\n",
       "      <td>[sourish, limb, prevent, happi, v, long, time,...</td>\n",
       "      <td>neg</td>\n",
       "    </tr>\n",
       "  </tbody>\n",
       "</table>\n",
       "</div>"
      ],
      "text/plain": [
       "                                               tweet sentiment\n",
       "0                                   [oh, sorri, pet]       neg\n",
       "1                        [love, prison, break, till]       neg\n",
       "2              [saw, realli, nice, pair, afford, em]       neg\n",
       "3                     [fun, foot, still, hurt, kill]       neg\n",
       "4  [sourish, limb, prevent, happi, v, long, time,...       neg"
      ]
     },
     "execution_count": 22,
     "metadata": {},
     "output_type": "execute_result"
    }
   ],
   "source": [
    "trained.head()"
   ]
  },
  {
   "cell_type": "markdown",
   "id": "5aa8a20b",
   "metadata": {},
   "source": [
    "### **Apply Lemmatization**"
   ]
  },
  {
   "cell_type": "code",
   "execution_count": 23,
   "id": "7e49701f",
   "metadata": {},
   "outputs": [],
   "source": [
    "import nltk\n",
    "from nltk.stem import WordNetLemmatizer \n",
    "\n",
    "def lemmatize(tweet):\n",
    "    wnl = WordNetLemmatizer()\n",
    "    tweet = [wnl.lemmatize(word) for word in tweet]\n",
    "    return tweet\n",
    "\n",
    "trained['tweet'] = trained['tweet'].apply(lambda x: lemmatize(x))\n",
    "test['tweet'] = test['tweet'].apply(lambda x: lemmatize(x))"
   ]
  },
  {
   "cell_type": "code",
   "execution_count": 24,
   "id": "3e349e26",
   "metadata": {},
   "outputs": [
    {
     "data": {
      "text/html": [
       "<div>\n",
       "<style scoped>\n",
       "    .dataframe tbody tr th:only-of-type {\n",
       "        vertical-align: middle;\n",
       "    }\n",
       "\n",
       "    .dataframe tbody tr th {\n",
       "        vertical-align: top;\n",
       "    }\n",
       "\n",
       "    .dataframe thead th {\n",
       "        text-align: right;\n",
       "    }\n",
       "</style>\n",
       "<table border=\"1\" class=\"dataframe\">\n",
       "  <thead>\n",
       "    <tr style=\"text-align: right;\">\n",
       "      <th></th>\n",
       "      <th>tweet</th>\n",
       "      <th>sentiment</th>\n",
       "    </tr>\n",
       "  </thead>\n",
       "  <tbody>\n",
       "    <tr>\n",
       "      <th>0</th>\n",
       "      <td>[oh, sorri, pet]</td>\n",
       "      <td>neg</td>\n",
       "    </tr>\n",
       "    <tr>\n",
       "      <th>1</th>\n",
       "      <td>[love, prison, break, till]</td>\n",
       "      <td>neg</td>\n",
       "    </tr>\n",
       "    <tr>\n",
       "      <th>2</th>\n",
       "      <td>[saw, realli, nice, pair, afford, em]</td>\n",
       "      <td>neg</td>\n",
       "    </tr>\n",
       "    <tr>\n",
       "      <th>3</th>\n",
       "      <td>[fun, foot, still, hurt, kill]</td>\n",
       "      <td>neg</td>\n",
       "    </tr>\n",
       "    <tr>\n",
       "      <th>4</th>\n",
       "      <td>[sourish, limb, prevent, happi, v, long, time,...</td>\n",
       "      <td>neg</td>\n",
       "    </tr>\n",
       "  </tbody>\n",
       "</table>\n",
       "</div>"
      ],
      "text/plain": [
       "                                               tweet sentiment\n",
       "0                                   [oh, sorri, pet]       neg\n",
       "1                        [love, prison, break, till]       neg\n",
       "2              [saw, realli, nice, pair, afford, em]       neg\n",
       "3                     [fun, foot, still, hurt, kill]       neg\n",
       "4  [sourish, limb, prevent, happi, v, long, time,...       neg"
      ]
     },
     "execution_count": 24,
     "metadata": {},
     "output_type": "execute_result"
    }
   ],
   "source": [
    "trained.head()"
   ]
  },
  {
   "cell_type": "markdown",
   "id": "7f8f13e0",
   "metadata": {},
   "source": [
    "# **Data Visualization**"
   ]
  },
  {
   "cell_type": "code",
   "execution_count": 25,
   "id": "09d8a0fa",
   "metadata": {},
   "outputs": [],
   "source": [
    "trained['tweet'] = trained['tweet'].apply(lambda x: ' '.join(x))\n",
    "test['tweet'] = test['tweet'].apply(lambda x: ' '.join(x))\n",
    "\n",
    "\n",
    "data = trained.append(test)\n",
    "data = data.set_index(np.arange(len(data)))\n",
    "\n",
    "\n",
    "pos_data = data[data['sentiment']=='pos']\n",
    "neu_data = data[data['sentiment']=='neu']\n",
    "neg_data = data[data['sentiment']=='neg']"
   ]
  },
  {
   "cell_type": "code",
   "execution_count": 26,
   "id": "1ed6bcb1",
   "metadata": {},
   "outputs": [],
   "source": [
    "from sklearn.feature_extraction.text import CountVectorizer\n",
    "\n",
    "vectorizer = CountVectorizer()\n",
    "data_frequency = vectorizer.fit_transform(data['tweet'])\n",
    "\n",
    "# Summall frequenies for each word in all data\n",
    "sum_frequencies = np.sum(data_frequency , axis=0)\n",
    "frequency = np.squeeze(np.asarray(sum_frequencies))\n",
    "frequency_df = pd.DataFrame([frequency], columns=vectorizer.get_feature_names()).transpose()\n",
    "frequency_df = frequency_df.sort_values(0, ascending=False)"
   ]
  },
  {
   "cell_type": "code",
   "execution_count": 27,
   "id": "60a99c58",
   "metadata": {},
   "outputs": [],
   "source": [
    "pos_vectorizer = CountVectorizer()\n",
    "X_pos = pos_vectorizer.fit_transform(pos_data['tweet'])\n",
    "\n",
    "# Sum all frequenies for word in positive tweet\n",
    "pos_sum_frequencies = np.sum(X_pos, axis=0)\n",
    "pos_frequency = np.squeeze(np.asarray(pos_sum_frequencies))\n",
    "pos_frequency_df = pd.DataFrame([pos_frequency], columns=pos_vectorizer.get_feature_names()).transpose()\n",
    "pos_frequency_df = pos_frequency_df.sort_values(0, ascending=False)"
   ]
  },
  {
   "cell_type": "code",
   "execution_count": 28,
   "id": "6f222751",
   "metadata": {},
   "outputs": [],
   "source": [
    "neu_vectorizer = CountVectorizer()\n",
    "X_neu = neu_vectorizer.fit_transform(neu_data['tweet'])\n",
    "\n",
    "# Sum all frequenies for word in neutral tweet\n",
    "neu_sum_frequencies = np.sum(X_neu, axis=0)\n",
    "neu_frequency = np.squeeze(np.asarray(neu_sum_frequencies))\n",
    "neu_frequency_df = pd.DataFrame([neu_frequency], columns=neu_vectorizer.get_feature_names()).transpose()\n",
    "neu_frequency_df = neu_frequency_df.sort_values(0, ascending=False)"
   ]
  },
  {
   "cell_type": "code",
   "execution_count": 29,
   "id": "8fc85741",
   "metadata": {},
   "outputs": [],
   "source": [
    "neg_vectorizer = CountVectorizer()\n",
    "X_neg = neg_vectorizer.fit_transform(neg_data['tweet'])\n",
    "\n",
    "# Sum all frequenies for word in negative tweet\n",
    "neg_sum_frequencies = np.sum(X_neg, axis=0)\n",
    "neg_frequency = np.squeeze(np.asarray(neg_sum_frequencies))\n",
    "neg_frequency_df = pd.DataFrame([neg_frequency], columns=neg_vectorizer.get_feature_names()).transpose()\n",
    "neg_frequency_df = neg_frequency_df.sort_values(0, ascending=False)"
   ]
  },
  {
   "cell_type": "code",
   "execution_count": 30,
   "id": "4935e952",
   "metadata": {},
   "outputs": [
    {
     "name": "stdout",
     "output_type": "stream",
     "text": [
      "******************** 50 more frequent words in All Tweets ********************\n",
      "Index(['go', 'get', 'day', 'like', 'good', 'work', 'love', 'quot', 'today',\n",
      "       'new', 'time', 'got', 'one', 'want', 'back', 'know', 'see', 'think',\n",
      "       'watch', 'miss', 'thank', 'realli', 'feel', 'night', 'need', 'make',\n",
      "       'hope', 'look', 'still', 'come', 'well', 'home', 'last', 'oh', 'much',\n",
      "       'tomorrow', 'wish', 'week', 'twitter', 'morn', 'great', 'wait', 'sleep',\n",
      "       'tri', 'take', 'follow', 'sad', 'would', 'fun', 'thing'],\n",
      "      dtype='object')\n",
      "****************** 50 more frequent words in Positive Tweets ******************\n",
      "Index(['go', 'love', 'good', 'day', 'get', 'quot', 'thank', 'like', 'time',\n",
      "       'see', 'today', 'work', 'got', 'one', 'know', 'think', 'new', 'great',\n",
      "       'hope', 'night', 'watch', 'well', 'back', 'look', 'make', 'come',\n",
      "       'twitter', 'realli', 'follow', 'happi', 'wait', 'fun', 'morn', 'much',\n",
      "       'want', 'oh', 'need', 'nice', 'home', 'feel', 'tomorrow', 'still',\n",
      "       'awesom', 'say', 'last', 'would', 'friend', 'way', 'thing', 'tweet'],\n",
      "      dtype='object')\n",
      "****************** 50 more frequent words in Neutral Tweets ******************\n",
      "Index(['new', 'watch', 'free', 'get', 'black', 'game', 'live', 'today', 'day',\n",
      "       'via', 'gt', 'set', 'rt', 'photo', 'go', 'one', 'year', 'trump',\n",
      "       'check', 'video', 'click', 'movi', 'like', 'time', 'book', 'case',\n",
      "       'week', 'white', 'use', 'join', 'open', 'come', 'first', 'want', 'art',\n",
      "       'look', 'size', 'cover', 'back', 'deal', 'take', 'woman', 'play', 'see',\n",
      "       'updat', 'star', 'men', 'night', 'silver', 'home'],\n",
      "      dtype='object')\n",
      "****************** 50 more frequent words in Negative Tweets ******************\n",
      "Index(['go', 'get', 'work', 'day', 'like', 'miss', 'want', 'today', 'feel',\n",
      "       'got', 'time', 'back', 'realli', 'good', 'one', 'still', 'sad', 'know',\n",
      "       'think', 'quot', 'wish', 'need', 'home', 'last', 'see', 'love', 'oh',\n",
      "       'make', 'bad', 'hope', 'sleep', 'night', 'much', 'sorri', 'come',\n",
      "       'well', 'hate', 'look', 'watch', 'tomorrow', 'week', 'new', 'tri',\n",
      "       'right', 'morn', 'though', 'would', 'even', 'hour', 'thing'],\n",
      "      dtype='object')\n"
     ]
    }
   ],
   "source": [
    "# Compare \n",
    "print('******************** 50 more frequent words in All Tweets ********************')\n",
    "print(frequency_df[:50].index)\n",
    "print('****************** 50 more frequent words in Positive Tweets ******************')\n",
    "print(pos_frequency_df[:50].index)\n",
    "print('****************** 50 more frequent words in Neutral Tweets ******************')\n",
    "print(neu_frequency_df[:50].index)\n",
    "print('****************** 50 more frequent words in Negative Tweets ******************')\n",
    "print(neg_frequency_df[:50].index)"
   ]
  },
  {
   "cell_type": "markdown",
   "id": "313b47a9",
   "metadata": {},
   "source": [
    "## **Most frequently 50 words in all data**"
   ]
  },
  {
   "cell_type": "code",
   "execution_count": 33,
   "id": "37d538df",
   "metadata": {},
   "outputs": [
    {
     "data": {
      "image/png": "[encoded data removed]",
      "text/plain": [
       "<Figure size 720x360 with 1 Axes>"
      ]
     },
     "metadata": {
      "needs_background": "light"
     },
     "output_type": "display_data"
    }
   ],
   "source": [
    "import seaborn as sns\n",
    "word_cnt = frequency_df[0][:50].index\n",
    "title = \"Word Frequency in All Tweets\"\n",
    "plt.figure(figsize=(10,5))\n",
    "plt.bar(np.arange(50), frequency_df[0][:50], width=0.8, color = sns.color_palette(\"bwr\"), alpha=0.5, \n",
    "            edgecolor = \"black\", capsize=8, linewidth=1);\n",
    "plt.xticks(np.arange(50), word_cnt, rotation=90, size=14);\n",
    "plt.xlabel(\"50 most frequent words\", size=14);\n",
    "plt.ylabel(\"Frequency\", size=14);\n",
    "plt.title(title, size=18)\n",
    "plt.grid(False);\n",
    "plt.gca().spines[\"top\"].set_visible(False);\n",
    "plt.gca().spines[\"right\"].set_visible(False);\n",
    "plt.savefig('output-images/Raw/50-most-frequent-words-All.png', dpi=300)\n",
    "plt.show() "
   ]
  },
  {
   "cell_type": "markdown",
   "id": "71b63627",
   "metadata": {},
   "source": [
    "## **Most Frequently 50 words in Positive Tweets**"
   ]
  },
  {
   "cell_type": "code",
   "execution_count": 34,
   "id": "3525ae2a",
   "metadata": {},
   "outputs": [
    {
     "data": {
      "image/png": "[encoded data removed]",
      "text/plain": [
       "<Figure size 720x360 with 1 Axes>"
      ]
     },
     "metadata": {
      "needs_background": "light"
     },
     "output_type": "display_data"
    }
   ],
   "source": [
    "pos_word_cnt = pos_frequency_df[0][:50].index\n",
    "title = \"Word Frequency in Positive Tweets\"\n",
    "plt.figure(figsize=(10,5))\n",
    "plt.bar(np.arange(50), pos_frequency_df[0][:50], width=0.8, color = sns.color_palette(\"bwr\"), alpha=0.5, \n",
    "            edgecolor = \"black\", capsize=8, linewidth=1);\n",
    "plt.xticks(np.arange(50), pos_word_cnt, rotation=90, size=14);\n",
    "plt.xlabel(\"50 most frequent words in Positive Tweets\", size=14);\n",
    "plt.ylabel(\"Frequency\", size=14);\n",
    "plt.title(title, size=18)\n",
    "plt.grid(False);\n",
    "plt.gca().spines[\"top\"].set_visible(False);\n",
    "plt.gca().spines[\"right\"].set_visible(False);\n",
    "plt.savefig('output-images/Raw/50-most-frequent-words-in-positive-tweet.png', dpi=300)\n",
    "plt.show() "
   ]
  },
  {
   "cell_type": "markdown",
   "id": "fc0d283e",
   "metadata": {},
   "source": [
    "## **Most Frequently 50 Words in Neutral Tweets**"
   ]
  },
  {
   "cell_type": "code",
   "execution_count": 35,
   "id": "c7acc1cf",
   "metadata": {},
   "outputs": [
    {
     "data": {
      "image/png": "[encoded data removed]",
      "text/plain": [
       "<Figure size 720x360 with 1 Axes>"
      ]
     },
     "metadata": {
      "needs_background": "light"
     },
     "output_type": "display_data"
    }
   ],
   "source": [
    "neu_word_cnt = neu_frequency_df[0][:50].index\n",
    "title = \"Word Frequency in Neutral Tweets\"\n",
    "plt.figure(figsize=(10,5))\n",
    "plt.bar(np.arange(50), neu_frequency_df[0][:50], width=0.8, color = sns.color_palette(\"bwr\"), alpha=0.5, \n",
    "            edgecolor = \"black\", capsize=8, linewidth=1);\n",
    "plt.xticks(np.arange(50), neu_word_cnt, rotation=90, size=14);\n",
    "plt.xlabel(\"50 most frequent words in Neutral Tweets\", size=14);\n",
    "plt.ylabel(\"Frequency\", size=14);\n",
    "plt.title(title, size=18)\n",
    "plt.grid(False);\n",
    "plt.gca().spines[\"top\"].set_visible(False);\n",
    "plt.gca().spines[\"right\"].set_visible(False);\n",
    "plt.savefig('output-images/Raw/50-most-frequent-words-in-neutral-tweet.png', dpi=300)\n",
    "plt.show() "
   ]
  },
  {
   "cell_type": "markdown",
   "id": "d010e4c1",
   "metadata": {},
   "source": [
    "## **Most Frequently 50 Words in Negative Tweets**"
   ]
  },
  {
   "cell_type": "code",
   "execution_count": 36,
   "id": "bd88e610",
   "metadata": {},
   "outputs": [
    {
     "data": {
      "image/png": "[encoded data removed]",
      "text/plain": [
       "<Figure size 720x360 with 1 Axes>"
      ]
     },
     "metadata": {
      "needs_background": "light"
     },
     "output_type": "display_data"
    }
   ],
   "source": [
    "neg_word_cnt = neg_frequency_df[0][:50].index\n",
    "title = \"Word Frequency in Negative Tweets\"\n",
    "plt.figure(figsize=(10,5))\n",
    "plt.bar(np.arange(50), neg_frequency_df[0][:50], width=0.8, color = sns.color_palette(\"bwr\"), alpha=0.5, \n",
    "            edgecolor = \"black\", capsize=8, linewidth=1);\n",
    "plt.xticks(np.arange(50), neg_word_cnt, rotation=90, size=14);\n",
    "plt.xlabel(\"50 most frequent words in Neutral Tweets\", size=14);\n",
    "plt.ylabel(\"Frequency\", size=14);\n",
    "plt.title(title, size=18)\n",
    "plt.grid(False);\n",
    "plt.gca().spines[\"top\"].set_visible(False);\n",
    "plt.gca().spines[\"right\"].set_visible(False);\n",
    "plt.savefig('output-images/Raw/50-most-frequent-words-in-negative-tweet.png', dpi=300)\n",
    "plt.show() "
   ]
  },
  {
   "cell_type": "markdown",
   "id": "c237895e",
   "metadata": {},
   "source": [
    "## **Sentiment Distribution Pine Chart in All Data**"
   ]
  },
  {
   "cell_type": "code",
   "execution_count": 37,
   "id": "bdfad565",
   "metadata": {},
   "outputs": [
    {
     "data": {
      "image/png": "[encoded data removed]",
      "text/plain": [
       "<Figure size 360x360 with 1 Axes>"
      ]
     },
     "metadata": {},
     "output_type": "display_data"
    }
   ],
   "source": [
    "data_pos_amt = data['sentiment'].tolist().count('pos')\n",
    "data_neu_amt = data['sentiment'].tolist().count('neu')\n",
    "data_neg_amt = trained['sentiment'].tolist().count('neg')\n",
    "\n",
    "sizes = [data_pos_amt, data_neu_amt, data_neg_amt]\n",
    "explode = (0.07, 0, 0)\n",
    "colors = ['#ff9999','#66b3ff','#99ff99']\n",
    "labels = ['Positive', 'Neutral', 'Negative']\n",
    "plt.figure(figsize=(5,5), facecolor='w')\n",
    "plt.pie(sizes, explode=explode, labels=labels, colors=colors, autopct='%1.1f%%', startangle=90)\n",
    "plt.savefig('output-images/Raw/Sentiment-Distribution-All.png', dpi=300)\n",
    "plt.show()"
   ]
  },
  {
   "cell_type": "markdown",
   "id": "d83baa32",
   "metadata": {},
   "source": [
    "# **Feature Extraction**"
   ]
  },
  {
   "cell_type": "markdown",
   "id": "431f44db",
   "metadata": {},
   "source": [
    "## **Training and Testing Set Preparation**"
   ]
  },
  {
   "cell_type": "code",
   "execution_count": 38,
   "id": "d33b95d8",
   "metadata": {},
   "outputs": [],
   "source": [
    "from tensorflow.keras.preprocessing.text import Tokenizer\n",
    "from tensorflow.keras.preprocessing import sequence\n",
    "\n",
    "X = data.tweet\n",
    "y = data.sentiment\n",
    "\n",
    "# Extact 5000 feature word for each tweet\n",
    "max_len = 5000\n",
    "tok = Tokenizer(num_words=2000)\n",
    "tok.fit_on_texts(X)\n",
    "sequences = tok.texts_to_sequences(X)\n",
    "sequences_matrix = sequence.pad_sequences(sequences, maxlen=max_len)"
   ]
  },
  {
   "cell_type": "code",
   "execution_count": 39,
   "id": "27e8cf1d",
   "metadata": {},
   "outputs": [
    {
     "data": {
      "text/plain": [
       "(179159, 5000)"
      ]
     },
     "execution_count": 39,
     "metadata": {},
     "output_type": "execute_result"
    }
   ],
   "source": [
    "sequences_matrix.shape"
   ]
  },
  {
   "cell_type": "code",
   "execution_count": 40,
   "id": "b34100ca",
   "metadata": {},
   "outputs": [],
   "source": [
    "# 70% tweets used in training set\n",
    "# 30% tweets used in testing set\n",
    "\n",
    "from sklearn.model_selection import train_test_split\n",
    "X_train, X_test, y_train, y_test = train_test_split(sequences_matrix, y, test_size=0.3, random_state=2)"
   ]
  },
  {
   "cell_type": "markdown",
   "id": "836e67a8",
   "metadata": {},
   "source": [
    "###  **Check Bias**"
   ]
  },
  {
   "cell_type": "code",
   "execution_count": 41,
   "id": "504f03ce",
   "metadata": {},
   "outputs": [],
   "source": [
    "train_pos_amt = y_train.tolist().count('pos')\n",
    "train_neu_amt = y_train.tolist().count('neu')\n",
    "train_neg_amt = y_train.tolist().count('neg')\n",
    "\n",
    "test_pos_amt = y_test.tolist().count('pos')\n",
    "test_neu_amt = y_test.tolist().count('neu')\n",
    "test_neg_amt = y_test.tolist().count('neg')"
   ]
  },
  {
   "cell_type": "code",
   "execution_count": 42,
   "id": "10c968af",
   "metadata": {},
   "outputs": [
    {
     "data": {
      "image/png": "[encoded data removed]",
      "text/plain": [
       "<Figure size 360x360 with 1 Axes>"
      ]
     },
     "metadata": {},
     "output_type": "display_data"
    }
   ],
   "source": [
    "train_sizes = [train_pos_amt, train_neu_amt, train_neg_amt]\n",
    "explode = (0.07, 0, 0)\n",
    "colors = ['#ff9999','#66b3ff','#99ff99']\n",
    "labels = ['Positive', 'Neutral', 'Negative']\n",
    "plt.figure(figsize=(5,5), facecolor='w')\n",
    "plt.pie(train_sizes, explode=explode, labels=labels, colors=colors, autopct='%1.1f%%', startangle=90)\n",
    "plt.savefig('output-images/Raw/Sentiment-Distribution-Train.png', dpi=300)\n",
    "plt.show()"
   ]
  },
  {
   "cell_type": "code",
   "execution_count": 43,
   "id": "c4bb6599",
   "metadata": {},
   "outputs": [
    {
     "data": {
      "image/png": "[encoded data removed]",
      "text/plain": [
       "<Figure size 360x360 with 1 Axes>"
      ]
     },
     "metadata": {},
     "output_type": "display_data"
    }
   ],
   "source": [
    "test_sizes = [test_pos_amt, test_neu_amt, test_neg_amt]\n",
    "explode = (0.07, 0, 0)\n",
    "colors = ['#ff9999','#66b3ff','#99ff99']\n",
    "labels = ['Positive', 'Neutral', 'Negative']\n",
    "plt.figure(figsize=(5,5), facecolor='w')\n",
    "plt.pie(test_sizes, explode=explode, labels=labels, colors=colors, autopct='%1.1f%%', startangle=90)\n",
    "plt.savefig('output-images/Raw/Sentiment-Distribution-Test.png', dpi=300)\n",
    "plt.show()"
   ]
  },
  {
   "cell_type": "code",
   "execution_count": 44,
   "id": "bec9e0ce",
   "metadata": {},
   "outputs": [
    {
     "data": {
      "text/plain": [
       "96605     pos\n",
       "142013    neg\n",
       "63889     pos\n",
       "99007     neg\n",
       "84763     neu\n",
       "Name: sentiment, dtype: object"
      ]
     },
     "execution_count": 44,
     "metadata": {},
     "output_type": "execute_result"
    }
   ],
   "source": [
    "y_train.head()"
   ]
  },
  {
   "cell_type": "code",
   "execution_count": 45,
   "id": "88aa7d0e",
   "metadata": {},
   "outputs": [],
   "source": [
    "from sklearn.preprocessing import LabelEncoder\n",
    "\n",
    "train_encoder = LabelEncoder()\n",
    "y_train = train_encoder.fit_transform(y_train)\n",
    "\n",
    "test_encoder = LabelEncoder()\n",
    "y_test = test_encoder.fit_transform(y_test)"
   ]
  },
  {
   "cell_type": "markdown",
   "id": "5aa3870c",
   "metadata": {},
   "source": [
    "# **Neural Network**"
   ]
  },
  {
   "cell_type": "markdown",
   "id": "a9cb27b9",
   "metadata": {},
   "source": [
    "## **Build Neural Network Model**"
   ]
  },
  {
   "cell_type": "code",
   "execution_count": 46,
   "id": "532e25ec",
   "metadata": {},
   "outputs": [],
   "source": [
    "from tensorflow.keras.layers import LSTM, Activation, Dense, Dropout, Input, Embedding\n",
    "from tensorflow.keras.models import Model"
   ]
  },
  {
   "cell_type": "code",
   "execution_count": 47,
   "id": "60091ee6",
   "metadata": {},
   "outputs": [],
   "source": [
    "def nn_model():\n",
    "    inputs = Input(name='inputs',shape=[max_len])\n",
    "    layer = Embedding(2000,50,input_length=max_len)(inputs) \n",
    "    layer = LSTM(64)(layer) \n",
    "    layer = Dense(256,name='FC1')(layer) \n",
    "    layer = Activation('relu')(layer) \n",
    "    layer = Dropout(0.5)(layer) \n",
    "    layer = Dense(1,name='out_layer')(layer) \n",
    "    layer = Activation('sigmoid')(layer) \n",
    "    model = Model(inputs=inputs,outputs=layer) \n",
    "    return model "
   ]
  },
  {
   "cell_type": "markdown",
   "id": "034daab7",
   "metadata": {},
   "source": [
    "## **Model Compilation**"
   ]
  },
  {
   "cell_type": "code",
   "execution_count": 48,
   "id": "ba451f7f",
   "metadata": {},
   "outputs": [
    {
     "name": "stderr",
     "output_type": "stream",
     "text": [
      "2021-12-24 23:16:09.590885: I tensorflow/core/platform/cpu_feature_guard.cc:151] This TensorFlow binary is optimized with oneAPI Deep Neural Network Library (oneDNN) to use the following CPU instructions in performance-critical operations:  AVX2 FMA\n",
      "To enable them in other operations, rebuild TensorFlow with the appropriate compiler flags.\n"
     ]
    }
   ],
   "source": [
    "from tensorflow.keras.optimizers import RMSprop\n",
    "model = nn_model() \n",
    "model.compile(loss='categorical_crossentropy',optimizer='adam',metrics=['accuracy'])  "
   ]
  },
  {
   "cell_type": "code",
   "execution_count": 49,
   "id": "b96477aa",
   "metadata": {},
   "outputs": [
    {
     "name": "stdout",
     "output_type": "stream",
     "text": [
      "Epoch 1/6\n",
      "1411/1411 [==============================] - 38459s 27s/step - loss: 0.0000e+00 - accuracy: 0.4093 - val_loss: 0.0000e+00 - val_accuracy: 0.4432\n",
      "Epoch 2/6\n",
      " 225/1411 [===>..........................] - ETA: 1:16:52 - loss: 0.0000e+00 - accuracy: 0.4452"
     ]
    }
   ],
   "source": [
    "hists = model.fit(X_train,y_train,batch_size=80,epochs=6, validation_split=0.1)\n",
    "print('************* Training Finished *************')\n"
   ]
  }
 ],
 "metadata": {
  "interpreter": {
   "hash": "9b5ff723cd38cf7d359aa2bf5fe7978a9ff73d1f62f5b88243d6c54060f370c5"
  },
  "kernelspec": {
   "display_name": "Python 3 (ipykernel)",
   "language": "python",
   "name": "python3"
  },
  "language_info": {
   "codemirror_mode": {
    "name": "ipython",
    "version": 3
   },
   "file_extension": ".py",
   "mimetype": "text/x-python",
   "name": "python",
   "nbconvert_exporter": "python",
   "pygments_lexer": "ipython3",
   "version": "3.9.7"
  }
 },
 "nbformat": 4,
 "nbformat_minor": 5
}
